{
  "cells": [
    {
      "cell_type": "markdown",
      "metadata": {
        "colab_type": "text",
        "id": "view-in-github"
      },
      "source": [
        "<a href=\"https://colab.research.google.com/github.com/jasper166/recommendation/edit/main/pre_process_yoochoose.ipynb\" target=\"_parent\"><img src=\"https://colab.research.google.com/assets/colab-badge.svg\" alt=\"Open In Colab\"/></a>"
      ]
    },
    {
      "cell_type": "code",
      "execution_count": null,
      "metadata": {
        "colab": {
          "base_uri": "https://localhost:8080/"
        },
        "id": "bPtTypJlZkIR",
        "outputId": "8a71b405-e68e-4380-d29f-249b3f258a75"
      },
      "outputs": [
        {
          "data": {
            "text/plain": [
              "['yoochoose-data', 'SBR-clone']"
            ]
          },
          "execution_count": 1,
          "metadata": {},
          "output_type": "execute_result"
        }
      ],
      "source": [
        "import os\n",
        "\n",
        "path = '/content/drive/MyDrive/KDL&KPDL'\n",
        "os.chdir(path)\n",
        "os.listdir()"
      ]
    },
    {
      "cell_type": "code",
      "execution_count": null,
      "metadata": {
        "id": "sxwrkFhaZvnY"
      },
      "outputs": [],
      "source": [
        "os.listdir('yoochoose-data')"
      ]
    },
    {
      "cell_type": "code",
      "execution_count": null,
      "metadata": {
        "colab": {
          "base_uri": "https://localhost:8080/"
        },
        "id": "mfs-lu5TZtUO",
        "outputId": "97116f85-52b6-4aa9-ca36-fd8944277613"
      },
      "outputs": [
        {
          "name": "stderr",
          "output_type": "stream",
          "text": [
            "<ipython-input-3-e81dbfc06bfe>:8: DtypeWarning: Columns (3) have mixed types. Specify dtype option on import or set low_memory=False.\n",
            "  dataset = pd.read_csv(filepath, names = ['SessionId', 'DateTime', 'ItemId', 'Category'])\n"
          ]
        }
      ],
      "source": [
        "import os\n",
        "import pandas as pd\n",
        "from datetime import datetime\n",
        "import time\n",
        "\n",
        "filepath = 'yoochoose-data/yoochoose-clicks.dat'\n",
        "# os.getcwd('input')\n",
        "dataset = pd.read_csv(filepath, names = ['SessionId', 'DateTime', 'ItemId', 'Category'])\n"
      ]
    },
    {
      "cell_type": "code",
      "execution_count": null,
      "metadata": {
        "id": "tpgPtzEkaTBs"
      },
      "outputs": [],
      "source": [
        "dataset['DateTime'] = dataset['DateTime'].apply(lambda x: datetime.strptime(x, '%Y-%m-%dT%H:%M:%S.%fZ'))\n",
        "dataset['Timestamp'] = dataset['DateTime'].apply(lambda x: x.strftime('%s.%f'))\n",
        "dataset = dataset.sort_values(by = ['SessionId', 'DateTime'], ascending = True)\n",
        "print(dataset.shape)\n",
        "dataset.head()"
      ]
    },
    {
      "cell_type": "markdown",
      "metadata": {
        "id": "2EBtdm3leqFV"
      },
      "source": [
        "thống kê các thuộc tính trong dataset"
      ]
    },
    {
      "cell_type": "code",
      "execution_count": null,
      "metadata": {
        "id": "oZn9ZCJUeo9y"
      },
      "outputs": [],
      "source": [
        "print(\"length of dataset: \", len(dataset))\n",
        "print(\"number of distinct item: \", dataset['ItemId'].unique().shape[0])\n",
        "print(\"number of distinct session: \", dataset['SessionId'].unique().shape[0])\n",
        "print(\"number of distinct time: \", dataset['DateTime'].unique().shape[0])"
      ]
    },
    {
      "cell_type": "markdown",
      "metadata": {
        "id": "9QuSL2dscCjv"
      },
      "source": [
        "check Category"
      ]
    },
    {
      "cell_type": "code",
      "execution_count": null,
      "metadata": {
        "id": "AeuSVBeXbpub"
      },
      "outputs": [],
      "source": [
        "#category\n",
        "category_dict = {}\n",
        "for i in dataset['Category']:\n",
        "  if i not in category_dict:\n",
        "    category_dict[i] = 1\n",
        "    continue\n",
        "  category_dict[i] += 1\n",
        "category_dict = sorted(category_dict, key = lambda x: x[1], reverse = True)\n",
        "print(category_dict[:32])"
      ]
    },
    {
      "cell_type": "code",
      "execution_count": null,
      "metadata": {
        "id": "W6QLjIAQcHJi"
      },
      "outputs": [],
      "source": [
        "keys = [i[0] for i in category_dict[:32]]\n",
        "for j,i in enumerate(keys):\n",
        "  if i == 0: i = -2\n",
        "  elif i == 'S': i = -1\n",
        "  else: i = int(i)\n",
        "  keys[j] = i\n",
        "cnt = 13\n",
        "for j,i in enumerate(keys):\n",
        "  if i > 12:\n",
        "    keys[j] = cnt\n",
        "    cnt+=1\n",
        "keys\n"
      ]
    },
    {
      "cell_type": "code",
      "execution_count": null,
      "metadata": {
        "id": "LQPL4AwNeSo9"
      },
      "outputs": [],
      "source": [
        "values = [i[1] for i in category_dict[:32]]\n",
        "plt.bar(keys, values)\n",
        "plt.xlabel('Category')\n",
        "plt.ylabel('Count')\n",
        "plt.title('Bar Chart of Dictionary')\n",
        "plt.show()"
      ]
    },
    {
      "cell_type": "markdown",
      "metadata": {
        "id": "XhHcWVdreWqN"
      },
      "source": [
        "Thống kê số lượng xuất hiện của các item"
      ]
    },
    {
      "cell_type": "code",
      "execution_count": null,
      "metadata": {
        "id": "1hHIp4xvfR9V"
      },
      "outputs": [],
      "source": [
        "#Thống kê số lần xuất hiện của các item --> data_dict = {'itemId1': count1, 'itemId2': count2,...}\n",
        "data_dict = {}\n",
        "for i in dataset['ItemId']:\n",
        "  if i not in data_dict:\n",
        "    data_dict[i] = 1\n",
        "    continue\n",
        "  data_dict[i] += 1\n",
        "data_dict = dict(sorted(data_dict.items(), key=lambda x: x[1]))\n",
        "data_dict"
      ]
    },
    {
      "cell_type": "code",
      "execution_count": null,
      "metadata": {
        "id": "Fw5fxUWlfsN3"
      },
      "outputs": [],
      "source": [
        "#thống kê số item xuất hiện n lần với n chạy từ 1 đến số lần xuất hiện tối đa của 1 item\n",
        "# --> num_dict = {1: numofItems, 2: numofItems, ...}\n",
        "num_dict = {}\n",
        "for i in data_dict:\n",
        "  if data_dict[i] not in num_dict:\n",
        "    num_dict[data_dict[i]] =1\n",
        "    continue\n",
        "  num_dict[data_dict[i]] += 1\n",
        "num_dict"
      ]
    },
    {
      "cell_type": "code",
      "execution_count": null,
      "metadata": {
        "id": "x7XHZpibgcff"
      },
      "outputs": [],
      "source": [
        "#Cộng dồn từ phần tử thứ 9 trở đi để vẽ biểu đồ\n",
        "new_dict = {}\n",
        "for i in range(1,9):\n",
        "  new_dict[i] = num_dict[i]\n",
        "sum = 0\n",
        "for i in range(9, 147420):\n",
        "  if i in num_dict.keys():\n",
        "    sum += num_dict[i]\n",
        "new_dict[9] = sum\n",
        "\n",
        "# Tạo danh sách các nhãn và phần trăm tương ứng\n",
        "labels = [str(key) for key in new_dict.keys()]\n",
        "sizes = [value / total * 100 for value in new_dict.values()]\n",
        "labels[8] = '>=9'\n",
        "# Vẽ biểu đồ pie\n",
        "plt.pie(sizes, labels=labels, autopct='%1.1f%%', startangle=140)\n",
        "plt.axis('equal')  # Đảm bảo biểu đồ có hình dạng tròn\n",
        "plt.title('Pie Chart of item occurence')\n",
        "plt.show()"
      ]
    },
    {
      "cell_type": "markdown",
      "metadata": {
        "id": "Ku4I6ub_gp4O"
      },
      "source": [
        "**<h1/>Bắt đầu tiền xử lý dữ liệu**"
      ]
    },
    {
      "cell_type": "markdown",
      "metadata": {
        "id": "fhgLLyAKZ2ru"
      },
      "source": [
        "Bên dưới ta sẽ lọc bỏ các itemId có ít hơn 5 lượt xuất hiện"
      ]
    },
    {
      "cell_type": "code",
      "execution_count": null,
      "metadata": {
        "id": "3X0BDBu7Z1Cu"
      },
      "outputs": [],
      "source": [
        "# Thống kê số lượt xuất hiện và lọc ra các ItemId có trên 5 lượt xuất hiện\n",
        "df_item_count = dataset[['ItemId', 'SessionId']].groupby('ItemId').count().sort_values(by = 'SessionId', ascending = False)\n",
        "df_item_count.columns = ['CountItemId']\n",
        "df_item_count_5 = df_item_count[df_item_count['CountItemId'] < 5]\n",
        "# Lọc khỏi dataset những ItemId có ít hơn 5 lượt xuất hiện\n",
        "dataset = dataset[~dataset['ItemId'].isin(list(df_item_count_5.index))]\n",
        "print(dataset.shape)"
      ]
    },
    {
      "cell_type": "markdown",
      "metadata": {
        "id": "lKy7BuxPZ_R8"
      },
      "source": [
        "Loại bỏ các Session độ dài 1"
      ]
    },
    {
      "cell_type": "code",
      "execution_count": null,
      "metadata": {
        "id": "kapQQy_7aCgi"
      },
      "outputs": [],
      "source": [
        "session_length = dataset.groupby('SessionId').size()\n",
        "\n",
        "# Lọc ra các SessionId có độ dài lớn hơn 1\n",
        "valid_sessions = session_length[session_length > 1].index\n",
        "\n",
        "# Lọc dataset với các SessionId có độ dài lớn hơn 1\n",
        "dataset = dataset[dataset['SessionId'].isin(valid_sessions)]\n",
        "\n",
        "print(dataset.shape)"
      ]
    },
    {
      "cell_type": "code",
      "execution_count": null,
      "metadata": {
        "id": "FrsvrAI-Z-rg"
      },
      "outputs": [],
      "source": [
        "from datetime import timedelta\n",
        "# Phân chia tập train/test sao cho tập test là 1 ngày gần đây nhất và train là dữ liệu còn lại\n",
        "maxdate = dataset['DateTime'].max()\n",
        "mindate = maxdate - timedelta(days = 1)\n",
        "test = dataset[dataset['DateTime'] >= mindate]\n",
        "dataset = dataset[dataset['DateTime'] <= mindate]\n",
        "print(dataset.shape)\n",
        "print(test.shape)"
      ]
    },
    {
      "cell_type": "code",
      "execution_count": null,
      "metadata": {
        "id": "qlhtrRnzaFOG"
      },
      "outputs": [],
      "source": [
        "import numpy as np\n",
        "\n",
        "# list các sessionIds\n",
        "sessIds = list(dataset['SessionId'].unique())\n",
        "# Lấy ngẫu nhiên 1/64 số lượng các session\n",
        "n_filter = int(len(sessIds)/64)\n",
        "np.random.shuffle(sessIds)\n",
        "sessIdsFilter = sessIds[:n_filter]\n",
        "# Lựa chọn các 1/64 session làm dataset train (dữ liệu này bao gồm cả train và validation)\n",
        "# Set index là sessionId để filter nhanh hơn\n",
        "dataset.set_index('SessionId', inplace=True)\n",
        "dataset_filter = dataset[dataset.index.isin(sessIdsFilter)]\n",
        "dataset_filter = dataset_filter.reset_index()\n",
        "print(dataset_filter.shape)"
      ]
    },
    {
      "cell_type": "code",
      "execution_count": null,
      "metadata": {
        "id": "bHBCSTRSaICd"
      },
      "outputs": [],
      "source": [
        "train_sess = dataset_filter[['SessionId', 'ItemId', 'Timestamp']].groupby('SessionId').apply(lambda x: dict(zip(x['ItemId'], x['Timestamp'])))\n",
        "test_sess = test[['SessionId', 'ItemId', 'Timestamp']].groupby('SessionId').apply(lambda x: dict(zip(x['ItemId'], x['Timestamp'])))\n",
        "train_sess[:5]"
      ]
    },
    {
      "cell_type": "code",
      "execution_count": null,
      "metadata": {
        "id": "rXxMYA9vaKSK"
      },
      "outputs": [],
      "source": [
        "sessDict = {214834865: '1396808691.295000', 214706441: '1396808691.426000', 214820225: '1396808691.422000'}\n",
        "\n",
        "def _preprocess_sess_dict(sessDict):\n",
        "    sessDictTime = dict([(v, k) for (k, v) in sessDict.items()])\n",
        "    sessSort = sorted(sessDictTime.items(), reverse = False)\n",
        "    times = [item[0] for item in sessSort]\n",
        "    itemIds = [item[1] for item in sessSort]\n",
        "    inp_seq = []\n",
        "    labels = []\n",
        "    inp_time = []\n",
        "\n",
        "    for i in range(len(sessSort)):\n",
        "        if i >= 1:\n",
        "            inp_seq += [itemIds[:i]]\n",
        "            labels += [itemIds[i]]\n",
        "            inp_time += [times[i]]\n",
        "    return inp_seq, inp_time, labels, itemIds\n",
        "\n",
        "#example for sessDict\n",
        "inp_seq, inp_time, labels, itemIds = _preprocess_sess_dict(sessDict)\n",
        "print('input sequences: ', inp_seq)\n",
        "print('input times: ', inp_time)\n",
        "print('targets: ', labels)\n",
        "print('sequence: ', itemIds)"
      ]
    },
    {
      "cell_type": "code",
      "execution_count": null,
      "metadata": {
        "id": "2e_DM9-VahNO"
      },
      "outputs": [],
      "source": [
        "def _preprocess_data(data_sess):\n",
        "    inp_seqs = []\n",
        "    inp_times = []\n",
        "    labels = []\n",
        "    sequences = []\n",
        "    sessIds = list(data_sess.index)\n",
        "    for sessId in sessIds:\n",
        "        sessDict = data_sess.loc[sessId]\n",
        "        inp_seq, inp_time, label, sequence = _preprocess_sess_dict(sessDict)\n",
        "        inp_seqs += inp_seq\n",
        "        inp_times += inp_time\n",
        "        labels += label\n",
        "        sequences += sequence\n",
        "    return inp_seqs, inp_times, labels, sequences\n",
        "\n",
        "train_inp_seqs, train_inp_dates, train_labs, train_sequences = _preprocess_data(train_sess)\n",
        "test_inp_seqs, test_inp_dates, test_labs, test_sequences = _preprocess_data(test_sess)\n",
        "\n",
        "train = (train_inp_seqs, train_labs)\n",
        "test = (test_inp_seqs, test_labs)\n",
        "\n",
        "print('Done.')\n",
        "for i in range(4):\n",
        "  print(\"input is: \", train_inp_seqs[i], \"with output: \", train_labs[i])"
      ]
    },
    {
      "cell_type": "code",
      "execution_count": null,
      "metadata": {
        "id": "o56_GBrUakK3"
      },
      "outputs": [],
      "source": [
        "# Các token default\n",
        "PAD_token = 0  # token padding cho câu ngắn\n",
        "\n",
        "class Voc:\n",
        "    def __init__(self, name):\n",
        "        self.name = name\n",
        "        self.trimmed = False\n",
        "        self.item2index = {}\n",
        "        self.item2count = {}\n",
        "        self.index2item = {PAD_token: \"PAD\"}\n",
        "        self.num_items = 1  # số lượng mặc định ban đầu là 1 ứng với PAD_token\n",
        "# sessDict = [ 21483,21483, 21893, 21893,83390,903wu9i084,9023893,8389]\n",
        "# addSequence(sessDict)\n",
        "# addItem(214834865)\n",
        "# addItem(214706441)\n",
        "# addItem(214820225)\n",
        "# addItem(214834856)\n",
        "    def addSenquence(self, data):\n",
        "        for sequence in data:\n",
        "          for item in sequence:\n",
        "              self.addItem(item)\n",
        "\n",
        "    # Thêm một item vào hệ thống\n",
        "    def addItem(self, item):\n",
        "        if item not in self.item2index:\n",
        "            self.item2index[item] = self.num_items #item2index[214834865] = 1, ....\n",
        "            self.item2count[item] = 1 #count[214...] = 1\n",
        "            self.index2item[self.num_items] = item #index2item[1] = 214....\n",
        "            self.num_items += 1 #num_items = 2\n",
        "        else:\n",
        "            self.item2count[item] += 1\n",
        "\n",
        "\n",
        "\n",
        "    # Hàm convert sequence (1 session)  về chuỗi các indices\n",
        "    def _seqItem2seqIndex(self, x):\n",
        "        return [voc.item2index[item] if item in voc.item2index else 0 for item in x]"
      ]
    },
    {
      "cell_type": "code",
      "execution_count": null,
      "metadata": {
        "id": "fcDVhQCMatO_"
      },
      "outputs": [],
      "source": [
        "from itertools import chain\n",
        "seq_targets = train[0] + [train[1]] + test[0] + [test[1]] #tat ca cac itemid da tung xuat hien (co lap)\n",
        "sessionIds = list(chain.from_iterable(seq_targets))\n",
        "sessionIds = set(sessionIds) # ->> 1 set ko con phan tu lap nua\n",
        "print('Number of sessionIds: ', len(sessionIds))"
      ]
    },
    {
      "cell_type": "code",
      "execution_count": null,
      "metadata": {
        "id": "cbglSSn7auSD"
      },
      "outputs": [],
      "source": [
        "voc = Voc('DictItemId')\n",
        "voc.addSenquence(seq_targets)\n",
        "\n",
        "# Convert thử nghiệm một sequence itemIds\n",
        "print('sequence of itemIds: ', train[0][7])\n",
        "print('converted indices: ', voc._seqItem2seqIndex(train[0][7]))"
      ]
    },
    {
      "cell_type": "code",
      "execution_count": null,
      "metadata": {
        "id": "Oo8J7g73avtN"
      },
      "outputs": [],
      "source": [
        "train_x_index = [voc._seqItem2seqIndex(seq) for seq in train[0]] #input train\n",
        "test_x_index = [voc._seqItem2seqIndex(seq) for seq in test[0]] #input test\n",
        "train_y_index = voc._seqItem2seqIndex(train[1]) #output train\n",
        "test_y_index = voc._seqItem2seqIndex(test[1])#output test\n",
        "train_index = (train_x_index, train_y_index)\n",
        "test_index = (test_x_index, test_y_index)\n",
        "print(voc.num_items)"
      ]
    },
    {
      "cell_type": "code",
      "execution_count": null,
      "metadata": {
        "id": "zdngf5d9axq_"
      },
      "outputs": [],
      "source": [
        "import pickle\n",
        "import os\n",
        "\n",
        "def _save_file(filename, obj):\n",
        "  with open(filename, 'wb') as fn:\n",
        "    pickle.dump(obj, fn)\n",
        "\n",
        "# Tạo folder yoochoose-data-64 để lưu dữ liệu train/test nếu chưa tồn tại\n",
        "if not os.path.exists('yoochoose-data/yoochoose-data-64'):\n",
        "  os.mkdir('yoochoose-data/yoochoose-data-64')\n",
        "\n",
        "# Lưu train/test\n",
        "_save_file('yoochoose-data/yoochoose-data-64/train.pkl', train_index)\n",
        "_save_file('yoochoose-data/yoochoose-data-64/test.pkl', test_index)\n",
        "\n"
      ]
    },
    {
      "cell_type": "markdown",
      "metadata": {
        "id": "ExGdOWeAZ8Tt"
      },
      "source": []
    }
  ],
  "metadata": {
    "colab": {
      "authorship_tag": "ABX9TyOwHSgsEMiRI68yevjufKEl",
      "include_colab_link": true,
      "mount_file_id": "1hE3npwNVDD82r8iqAYNEss5vWRCGUrGE",
      "provenance": []
    },
    "kernelspec": {
      "display_name": "Python 3",
      "name": "python3"
    },
    "language_info": {
      "name": "python"
    }
  },
  "nbformat": 4,
  "nbformat_minor": 0
}
